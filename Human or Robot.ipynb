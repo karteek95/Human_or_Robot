{
 "cells": [
  {
   "cell_type": "markdown",
   "metadata": {},
   "source": [
    "# HUMAN OR ROBOT"
   ]
  },
  {
   "cell_type": "markdown",
   "metadata": {},
   "source": [
    "<h1> 1. Business Problem </h1>"
   ]
  },
  {
   "cell_type": "markdown",
   "metadata": {},
   "source": [
    "<h2> 1.1 Description </h2>"
   ]
  },
  {
   "cell_type": "markdown",
   "metadata": {},
   "source": [
    "&emsp;Human bidders on the site are becoming increasingly frustrated with their inability to win auctions vs. their software-controlled counterparts. As a result, usage from the site's core customer base is plummeting.  \n",
    "&emsp;    In order to rebuild customer happiness, the site owners need to eliminate computer generated bidding from their auctions. Their attempt at building a model to identify these bids using behavioral data, including bid frequency over short periods of time, has proven insufficient.   \n",
    "    &emsp;The goal is to identify online auction bids that are placed by \"robots\", helping the site owners easily flag these users for removal from their site to prevent unfair auction activity."
   ]
  },
  {
   "cell_type": "markdown",
   "metadata": {},
   "source": [
    "__Problem statement:__\n",
    "    predict if an online bid is made by a machine or a human"
   ]
  },
  {
   "cell_type": "markdown",
   "metadata": {},
   "source": [
    "<h2> 1.2 Sources/Useful Links</h2>"
   ]
  },
  {
   "cell_type": "markdown",
   "metadata": {},
   "source": [
    "- source: https://www.kaggle.com/c/facebook-recruiting-iv-human-or-bot\n",
    "<br><br>__Useful Links:__\n",
    "- Discussion: https://www.kaggle.com/c/facebook-recruiting-iv-human-or-bot/discussion\n",
    "- Blog 1: http://small-yellow-duck.github.io/auction.html\n",
    "- Blog 2: https://blog.dataiku.com/2015/06/09/kaggle-feature-engineering\n",
    "- Blog 3: https://www.analyticsvidhya.com/blog/2015/07/top-10-kaggle-fb-recruiting-competition/\n",
    "- Interview: http://blog.kaggle.com/2015/06/19/facebook-iv-winners-interview-2nd-place-kiri-nicholaka-small-yellow-duck/"
   ]
  },
  {
   "cell_type": "markdown",
   "metadata": {},
   "source": [
    "<h2>1.3 Real world/Business Objectives and Constraints </h2>"
   ]
  },
  {
   "cell_type": "markdown",
   "metadata": {},
   "source": [
    "1. The cost mis classification is very high\n",
    "2. predict as early as possible\n",
    "3. Interpretability is partially important."
   ]
  },
  {
   "cell_type": "markdown",
   "metadata": {},
   "source": [
    "<h1>2. Machine Learning Probelm </h1>"
   ]
  },
  {
   "cell_type": "markdown",
   "metadata": {},
   "source": [
    "<h2> 2.1 Data </h2>"
   ]
  },
  {
   "cell_type": "markdown",
   "metadata": {},
   "source": [
    "<h3> 2.1.1 Data Overview </h3>"
   ]
  },
  {
   "cell_type": "markdown",
   "metadata": {},
   "source": [
    "https://www.kaggle.com/c/facebook-recruiting-iv-human-or-bot/data"
   ]
  },
  {
   "cell_type": "markdown",
   "metadata": {},
   "source": [
    "__Data Files:__\n",
    "- train.csv - the training set from the bidder dataset  \n",
    "- test.csv - the test set from the bidder dataset  \n",
    "- bids.csv - the bid dataset \n",
    "<p> we will use only train.csv, as there is no ground truth present in test.csv</p>"
   ]
  },
  {
   "cell_type": "markdown",
   "metadata": {},
   "source": [
    "____For the bidder dataset:____\n",
    "\n",
    "__bidder_id__ – Unique identifier of a bidder.  \n",
    "__payment_account__ – Payment account associated with a bidder. These are obfuscated to protect privacy.   \n",
    "__address__ – Mailing address of a bidder. These are obfuscated to protect privacy.   \n",
    "__outcome__ – Label of a bidder indicating whether or not it is a robot. Value 1.0 indicates a robot, where value 0.0 indicates human.    \n",
    "The outcome was half hand labeled, half stats-based. There are two types of \"bots\" with different levels of proof:\n",
    "\n",
    "1. Bidders who are identified as bots/fraudulent with clear proof. Their accounts were banned by the auction site.  \n",
    "\n",
    "2. Bidder who may have just started their business/clicks or their stats exceed from system wide average. There are no clear proof that they are bots.   \n",
    "\n",
    "\n",
    "\n",
    "____For the bid dataset:____\n",
    "\n",
    "__bid_id__ - unique id for this bid  \n",
    "__bidder_id__ – Unique identifier of a bidder (same as the bidder_id used in train.csv and test.csv)  \n",
    "__auction__ – Unique identifier of an auction  \n",
    "__merchandise__ –  The category of the auction site campaign, which means the bidder might come to this site by way of searching for \"home goods\" but ended up bidding for \"sporting goods\" - and that leads to this field being \"home goods\". This categorical field could be a search term, or online advertisement.   \n",
    "__device__ – Phone model of a visitor  \n",
    "__time__ - Time that the bid is made (transformed to protect privacy).  \n",
    "__country__ - The country that the IP belongs to  \n",
    "__ip__ – IP address of a bidder (obfuscated to protect privacy).  \n",
    "__url__ - url where the bidder was referred from (obfuscated to protect privacy).   "
   ]
  },
  {
   "cell_type": "markdown",
   "metadata": {},
   "source": [
    "<h3> 2.1.2 Example Data point </h3>"
   ]
  },
  {
   "cell_type": "markdown",
   "metadata": {},
   "source": [
    "__Bidder Data:__ "
   ]
  },
  {
   "cell_type": "markdown",
   "metadata": {},
   "source": [
    " \n",
    "|bidder_id|payment_account|address|outcome|\n",
    "|:-------:|:-------------:|:------:|:-----:|\n",
    "|91a3c57b13234af24875c56fb7e2b2f4rb56a|a3d2de7675556553a5f08e4c88d2c228754av|a3d2de7675556553a5f08e4c88d2c228vt0u4|0.0|"
   ]
  },
  {
   "cell_type": "markdown",
   "metadata": {},
   "source": [
    "__Bid Data:__ "
   ]
  },
  {
   "cell_type": "markdown",
   "metadata": {},
   "source": [
    "|bid_id|bidder_id|auction|merachandise|device|time|country|ip|url|\n",
    "|:----:|:-------:|:-----:|:----------:|:----:|:---:|:----:|:----:|:----:|\n",
    "|0|8dac2b259fd1c6d1120e519fb1ac14fbqvax8|ewmzr|jewelry|phone0|9759243157894736|us|69.166.231.58|vasstdc27m7nks3|"
   ]
  },
  {
   "cell_type": "markdown",
   "metadata": {},
   "source": [
    "<h2> 2.2 Mapping the real world problem to an ML problem </h2>"
   ]
  },
  {
   "cell_type": "markdown",
   "metadata": {},
   "source": [
    "<h3> 2.2.1 Type of Machine Leaning Problem </h3>"
   ]
  },
  {
   "cell_type": "markdown",
   "metadata": {},
   "source": [
    "<p>It is binary classification problem. predict if an online bid is made by a machine or a human</p>"
   ]
  },
  {
   "cell_type": "markdown",
   "metadata": {},
   "source": [
    "<h3> 2.2.2 Performance Metric </h3>"
   ]
  },
  {
   "cell_type": "markdown",
   "metadata": {},
   "source": [
    "Metrics:\n",
    "* AUC-ROC\n",
    "* confusion matrix"
   ]
  },
  {
   "cell_type": "markdown",
   "metadata": {},
   "source": [
    "<h1>3. Exploratory Data Analysis </h1>"
   ]
  },
  {
   "cell_type": "code",
   "execution_count": 333,
   "metadata": {},
   "outputs": [],
   "source": [
    "#loding requires libraries\n",
    "import numpy as np\n",
    "import pandas as pd\n",
    "import seaborn as sns\n",
    "import matplotlib.pylab as plt\n",
    "import warnings\n",
    "import os\n",
    "import pickle\n",
    "\n",
    "warnings.filterwarnings('ignore')"
   ]
  },
  {
   "cell_type": "code",
   "execution_count": 334,
   "metadata": {},
   "outputs": [],
   "source": [
    "#loading bidder data from train\n",
    "bidder_data=pd.read_csv('train.csv')"
   ]
  },
  {
   "cell_type": "code",
   "execution_count": 335,
   "metadata": {},
   "outputs": [
    {
     "data": {
      "text/html": [
       "<div>\n",
       "<style scoped>\n",
       "    .dataframe tbody tr th:only-of-type {\n",
       "        vertical-align: middle;\n",
       "    }\n",
       "\n",
       "    .dataframe tbody tr th {\n",
       "        vertical-align: top;\n",
       "    }\n",
       "\n",
       "    .dataframe thead th {\n",
       "        text-align: right;\n",
       "    }\n",
       "</style>\n",
       "<table border=\"1\" class=\"dataframe\">\n",
       "  <thead>\n",
       "    <tr style=\"text-align: right;\">\n",
       "      <th></th>\n",
       "      <th>bidder_id</th>\n",
       "      <th>payment_account</th>\n",
       "      <th>address</th>\n",
       "      <th>outcome</th>\n",
       "    </tr>\n",
       "  </thead>\n",
       "  <tbody>\n",
       "    <tr>\n",
       "      <th>0</th>\n",
       "      <td>91a3c57b13234af24875c56fb7e2b2f4rb56a</td>\n",
       "      <td>a3d2de7675556553a5f08e4c88d2c228754av</td>\n",
       "      <td>a3d2de7675556553a5f08e4c88d2c228vt0u4</td>\n",
       "      <td>0.0</td>\n",
       "    </tr>\n",
       "    <tr>\n",
       "      <th>1</th>\n",
       "      <td>624f258b49e77713fc34034560f93fb3hu3jo</td>\n",
       "      <td>a3d2de7675556553a5f08e4c88d2c228v1sga</td>\n",
       "      <td>ae87054e5a97a8f840a3991d12611fdcrfbq3</td>\n",
       "      <td>0.0</td>\n",
       "    </tr>\n",
       "    <tr>\n",
       "      <th>2</th>\n",
       "      <td>1c5f4fc669099bfbfac515cd26997bd12ruaj</td>\n",
       "      <td>a3d2de7675556553a5f08e4c88d2c2280cybl</td>\n",
       "      <td>92520288b50f03907041887884ba49c0cl0pd</td>\n",
       "      <td>0.0</td>\n",
       "    </tr>\n",
       "    <tr>\n",
       "      <th>3</th>\n",
       "      <td>4bee9aba2abda51bf43d639013d6efe12iycd</td>\n",
       "      <td>51d80e233f7b6a7dfdee484a3c120f3b2ita8</td>\n",
       "      <td>4cb9717c8ad7e88a9a284989dd79b98dbevyi</td>\n",
       "      <td>0.0</td>\n",
       "    </tr>\n",
       "    <tr>\n",
       "      <th>4</th>\n",
       "      <td>4ab12bc61c82ddd9c2d65e60555808acqgos1</td>\n",
       "      <td>a3d2de7675556553a5f08e4c88d2c22857ddh</td>\n",
       "      <td>2a96c3ce94b3be921e0296097b88b56a7x1ji</td>\n",
       "      <td>0.0</td>\n",
       "    </tr>\n",
       "  </tbody>\n",
       "</table>\n",
       "</div>"
      ],
      "text/plain": [
       "                               bidder_id  \\\n",
       "0  91a3c57b13234af24875c56fb7e2b2f4rb56a   \n",
       "1  624f258b49e77713fc34034560f93fb3hu3jo   \n",
       "2  1c5f4fc669099bfbfac515cd26997bd12ruaj   \n",
       "3  4bee9aba2abda51bf43d639013d6efe12iycd   \n",
       "4  4ab12bc61c82ddd9c2d65e60555808acqgos1   \n",
       "\n",
       "                         payment_account  \\\n",
       "0  a3d2de7675556553a5f08e4c88d2c228754av   \n",
       "1  a3d2de7675556553a5f08e4c88d2c228v1sga   \n",
       "2  a3d2de7675556553a5f08e4c88d2c2280cybl   \n",
       "3  51d80e233f7b6a7dfdee484a3c120f3b2ita8   \n",
       "4  a3d2de7675556553a5f08e4c88d2c22857ddh   \n",
       "\n",
       "                                 address  outcome  \n",
       "0  a3d2de7675556553a5f08e4c88d2c228vt0u4      0.0  \n",
       "1  ae87054e5a97a8f840a3991d12611fdcrfbq3      0.0  \n",
       "2  92520288b50f03907041887884ba49c0cl0pd      0.0  \n",
       "3  4cb9717c8ad7e88a9a284989dd79b98dbevyi      0.0  \n",
       "4  2a96c3ce94b3be921e0296097b88b56a7x1ji      0.0  "
      ]
     },
     "execution_count": 335,
     "metadata": {},
     "output_type": "execute_result"
    }
   ],
   "source": [
    "#trying to see some data\n",
    "bidder_data.head()"
   ]
  },
  {
   "cell_type": "code",
   "execution_count": 336,
   "metadata": {},
   "outputs": [
    {
     "name": "stdout",
     "output_type": "stream",
     "text": [
      "Data points in Train: 2013\n"
     ]
    }
   ],
   "source": [
    "print('Data points in Train:',bidder_data.shape[0])"
   ]
  },
  {
   "cell_type": "code",
   "execution_count": 337,
   "metadata": {},
   "outputs": [
    {
     "name": "stdout",
     "output_type": "stream",
     "text": [
      "Number of Robots: 103\n",
      "Number of Humans: 1910\n"
     ]
    }
   ],
   "source": [
    "print('Number of Robots:',len(bidder_data[bidder_data.outcome==1]))\n",
    "print('Number of Humans:',len(bidder_data[bidder_data.outcome==0]))"
   ]
  },
  {
   "cell_type": "markdown",
   "metadata": {},
   "source": [
    "__only 5.48% of data is labelled as 'Robots.', indicating state of imbalanced data__"
   ]
  },
  {
   "cell_type": "code",
   "execution_count": 338,
   "metadata": {},
   "outputs": [],
   "source": [
    "#loading bid data\n",
    "bid_data=pd.read_csv('bids.csv')"
   ]
  },
  {
   "cell_type": "code",
   "execution_count": 339,
   "metadata": {},
   "outputs": [
    {
     "data": {
      "text/html": [
       "<div>\n",
       "<style scoped>\n",
       "    .dataframe tbody tr th:only-of-type {\n",
       "        vertical-align: middle;\n",
       "    }\n",
       "\n",
       "    .dataframe tbody tr th {\n",
       "        vertical-align: top;\n",
       "    }\n",
       "\n",
       "    .dataframe thead th {\n",
       "        text-align: right;\n",
       "    }\n",
       "</style>\n",
       "<table border=\"1\" class=\"dataframe\">\n",
       "  <thead>\n",
       "    <tr style=\"text-align: right;\">\n",
       "      <th></th>\n",
       "      <th>bid_id</th>\n",
       "      <th>bidder_id</th>\n",
       "      <th>auction</th>\n",
       "      <th>merchandise</th>\n",
       "      <th>device</th>\n",
       "      <th>time</th>\n",
       "      <th>country</th>\n",
       "      <th>ip</th>\n",
       "      <th>url</th>\n",
       "    </tr>\n",
       "  </thead>\n",
       "  <tbody>\n",
       "    <tr>\n",
       "      <th>0</th>\n",
       "      <td>0</td>\n",
       "      <td>8dac2b259fd1c6d1120e519fb1ac14fbqvax8</td>\n",
       "      <td>ewmzr</td>\n",
       "      <td>jewelry</td>\n",
       "      <td>phone0</td>\n",
       "      <td>9759243157894736</td>\n",
       "      <td>us</td>\n",
       "      <td>69.166.231.58</td>\n",
       "      <td>vasstdc27m7nks3</td>\n",
       "    </tr>\n",
       "    <tr>\n",
       "      <th>1</th>\n",
       "      <td>1</td>\n",
       "      <td>668d393e858e8126275433046bbd35c6tywop</td>\n",
       "      <td>aeqok</td>\n",
       "      <td>furniture</td>\n",
       "      <td>phone1</td>\n",
       "      <td>9759243157894736</td>\n",
       "      <td>in</td>\n",
       "      <td>50.201.125.84</td>\n",
       "      <td>jmqlhflrzwuay9c</td>\n",
       "    </tr>\n",
       "    <tr>\n",
       "      <th>2</th>\n",
       "      <td>2</td>\n",
       "      <td>aa5f360084278b35d746fa6af3a7a1a5ra3xe</td>\n",
       "      <td>wa00e</td>\n",
       "      <td>home goods</td>\n",
       "      <td>phone2</td>\n",
       "      <td>9759243157894736</td>\n",
       "      <td>py</td>\n",
       "      <td>112.54.208.157</td>\n",
       "      <td>vasstdc27m7nks3</td>\n",
       "    </tr>\n",
       "    <tr>\n",
       "      <th>3</th>\n",
       "      <td>3</td>\n",
       "      <td>3939ac3ef7d472a59a9c5f893dd3e39fh9ofi</td>\n",
       "      <td>jefix</td>\n",
       "      <td>jewelry</td>\n",
       "      <td>phone4</td>\n",
       "      <td>9759243157894736</td>\n",
       "      <td>in</td>\n",
       "      <td>18.99.175.133</td>\n",
       "      <td>vasstdc27m7nks3</td>\n",
       "    </tr>\n",
       "    <tr>\n",
       "      <th>4</th>\n",
       "      <td>4</td>\n",
       "      <td>8393c48eaf4b8fa96886edc7cf27b372dsibi</td>\n",
       "      <td>jefix</td>\n",
       "      <td>jewelry</td>\n",
       "      <td>phone5</td>\n",
       "      <td>9759243157894736</td>\n",
       "      <td>in</td>\n",
       "      <td>145.138.5.37</td>\n",
       "      <td>vasstdc27m7nks3</td>\n",
       "    </tr>\n",
       "  </tbody>\n",
       "</table>\n",
       "</div>"
      ],
      "text/plain": [
       "   bid_id                              bidder_id auction merchandise  device  \\\n",
       "0       0  8dac2b259fd1c6d1120e519fb1ac14fbqvax8   ewmzr     jewelry  phone0   \n",
       "1       1  668d393e858e8126275433046bbd35c6tywop   aeqok   furniture  phone1   \n",
       "2       2  aa5f360084278b35d746fa6af3a7a1a5ra3xe   wa00e  home goods  phone2   \n",
       "3       3  3939ac3ef7d472a59a9c5f893dd3e39fh9ofi   jefix     jewelry  phone4   \n",
       "4       4  8393c48eaf4b8fa96886edc7cf27b372dsibi   jefix     jewelry  phone5   \n",
       "\n",
       "               time country              ip              url  \n",
       "0  9759243157894736      us   69.166.231.58  vasstdc27m7nks3  \n",
       "1  9759243157894736      in   50.201.125.84  jmqlhflrzwuay9c  \n",
       "2  9759243157894736      py  112.54.208.157  vasstdc27m7nks3  \n",
       "3  9759243157894736      in   18.99.175.133  vasstdc27m7nks3  \n",
       "4  9759243157894736      in    145.138.5.37  vasstdc27m7nks3  "
      ]
     },
     "execution_count": 339,
     "metadata": {},
     "output_type": "execute_result"
    }
   ],
   "source": [
    "#trying to see some data\n",
    "bid_data.head()"
   ]
  },
  {
   "cell_type": "code",
   "execution_count": 340,
   "metadata": {},
   "outputs": [
    {
     "name": "stdout",
     "output_type": "stream",
     "text": [
      "Number of bids: 7656334\n"
     ]
    }
   ],
   "source": [
    "#number of data points\n",
    "print('Number of bids:',bid_data.shape[0])"
   ]
  },
  {
   "cell_type": "code",
   "execution_count": 341,
   "metadata": {},
   "outputs": [],
   "source": [
    "#sorting by inplace along the time axis \n",
    "bid_data.sort_values('time',ascending=True,inplace=True)"
   ]
  },
  {
   "cell_type": "markdown",
   "metadata": {},
   "source": [
    "<h3> Pre process bidder data</h3>"
   ]
  },
  {
   "cell_type": "markdown",
   "metadata": {},
   "source": [
    "__As Payment account and address column values are hashed values, stripping last five characteristics__"
   ]
  },
  {
   "cell_type": "code",
   "execution_count": 342,
   "metadata": {},
   "outputs": [],
   "source": [
    "bidder_data.payment_account=bidder_data.payment_account.apply(lambda x:x[:-5])\n",
    "bidder_data.address=bidder_data.address.apply(lambda x:x[:-5])"
   ]
  },
  {
   "cell_type": "markdown",
   "metadata": {},
   "source": [
    "__Featurizing Address column__"
   ]
  },
  {
   "cell_type": "code",
   "execution_count": 343,
   "metadata": {},
   "outputs": [
    {
     "name": "stdout",
     "output_type": "stream",
     "text": [
      "There are  1418  unique addresses among  2013  total addresses\n"
     ]
    }
   ],
   "source": [
    "#https://github.com/small-yellow-duck/facebook_auction/blob/master/fba-sub9.py\n",
    "print('There are ',bidder_data['address'].nunique(),' unique addresses among ',bidder_data.shape[0],' total addresses')"
   ]
  },
  {
   "cell_type": "code",
   "execution_count": 344,
   "metadata": {},
   "outputs": [],
   "source": [
    "temp=bidder_data.groupby('address').size().reset_index().sort_values(0,ascending=False)"
   ]
  },
  {
   "cell_type": "code",
   "execution_count": 345,
   "metadata": {},
   "outputs": [],
   "source": [
    "temp = temp.rename(columns = {0:'address_count'})"
   ]
  },
  {
   "cell_type": "code",
   "execution_count": 346,
   "metadata": {},
   "outputs": [
    {
     "data": {
      "text/plain": [
       "1.0"
      ]
     },
     "execution_count": 346,
     "metadata": {},
     "output_type": "execute_result"
    }
   ],
   "source": [
    "#some addresses are very frequent, more addresses are infrequent\n",
    "np.percentile(temp['address_count'],90)"
   ]
  },
  {
   "cell_type": "markdown",
   "metadata": {},
   "source": [
    "__nearly 92% of addresses are unique__"
   ]
  },
  {
   "cell_type": "code",
   "execution_count": 347,
   "metadata": {},
   "outputs": [
    {
     "data": {
      "text/plain": [
       "2.0"
      ]
     },
     "execution_count": 347,
     "metadata": {},
     "output_type": "execute_result"
    }
   ],
   "source": [
    "np.percentile(temp['address_count'],97)"
   ]
  },
  {
   "cell_type": "markdown",
   "metadata": {},
   "source": [
    "__Address count between 2 and 5 (inclusive) encoded as \"Infrequent address\"__  \n",
    "__Address count 1 is encoded as rare address__"
   ]
  },
  {
   "cell_type": "code",
   "execution_count": 348,
   "metadata": {},
   "outputs": [],
   "source": [
    "max_relevant = 6\n",
    "infrequent_addresses=temp[temp.address_count >= 2][temp.address_count < max_relevant].address.values\n",
    "rare_addresses=temp[temp.address_count<2].address.values\n",
    "bidder_data['address'].loc[bidder_data['address'].isin(rare_addresses)]='rare_address'\n",
    "bidder_data['address'].loc[bidder_data.address.isin(infrequent_addresses)] = 'infrequent_address'\n",
    "temp=pd.get_dummies(bidder_data[['address']])\n",
    "#concating the one hot encoded features to the bidder_data\n",
    "bidder_data=pd.concat([bidder_data,temp],axis=1)"
   ]
  },
  {
   "cell_type": "markdown",
   "metadata": {},
   "source": [
    "__Featurizing payment_account column__"
   ]
  },
  {
   "cell_type": "code",
   "execution_count": 349,
   "metadata": {},
   "outputs": [
    {
     "name": "stdout",
     "output_type": "stream",
     "text": [
      "There are  840  unique addresses among  2013  total addresses\n"
     ]
    }
   ],
   "source": [
    "print('There are ',bidder_data['payment_account'].nunique(),' unique addresses among ',bidder_data.shape[0],' total addresses')"
   ]
  },
  {
   "cell_type": "code",
   "execution_count": 350,
   "metadata": {},
   "outputs": [],
   "source": [
    "temp=bidder_data.groupby('payment_account').size().reset_index().sort_values(0,ascending=False)"
   ]
  },
  {
   "cell_type": "code",
   "execution_count": 351,
   "metadata": {},
   "outputs": [],
   "source": [
    "temp = temp.rename(columns = {0:'payment_account_count'})"
   ]
  },
  {
   "cell_type": "markdown",
   "metadata": {},
   "source": [
    "<p>when we perform one hot encoding over Address column, it will generate 840 features</p>"
   ]
  },
  {
   "cell_type": "code",
   "execution_count": 352,
   "metadata": {},
   "outputs": [
    {
     "data": {
      "text/plain": [
       "2.0"
      ]
     },
     "execution_count": 352,
     "metadata": {},
     "output_type": "execute_result"
    }
   ],
   "source": [
    "np.percentile(temp['payment_account_count'],97)"
   ]
  },
  {
   "cell_type": "markdown",
   "metadata": {},
   "source": [
    "__Encoding payment_account with count 1 as rare payment accounts to reduce the features__  \n",
    "__Encoding pament_account with count between 2 and 5 (inclusive) as infrequent accounts__"
   ]
  },
  {
   "cell_type": "code",
   "execution_count": 353,
   "metadata": {},
   "outputs": [],
   "source": [
    "infrequent_payment_account = temp[temp.payment_account_count >= 2][temp.payment_account_count < max_relevant].payment_account.values\n",
    "rare_account=temp[temp.payment_account_count<2].payment_account.values\n",
    "bidder_data['payment_account'].loc[bidder_data.payment_account.isin(rare_account)]='rare_account'\n",
    "bidder_data['payment_account'].loc[bidder_data.payment_account.isin(infrequent_payment_account)] = 'infrequent_account'\n",
    "temp=pd.get_dummies(bidder_data[['payment_account']])\n",
    "#concating one hot encoded features\n",
    "bidder_data=pd.concat([bidder_data,temp],axis=1)\n",
    "#drop 'address' and 'payment account' columns from bidder_data\n",
    "bidder_data=bidder_data.drop('address',axis=1)\n",
    "bidder_data=bidder_data.drop('payment_account',axis=1)"
   ]
  },
  {
   "cell_type": "markdown",
   "metadata": {},
   "source": [
    "<h2> 4  Feature Extraction </h3>"
   ]
  },
  {
   "cell_type": "markdown",
   "metadata": {},
   "source": [
    "Basically when we analyze what makes distinction beteen robots and humans is:  \n",
    "__* Robots can participate in more auctions__  \n",
    "__* Number bids robot can make is more__  \n",
    "__* Robots can bid faster__  "
   ]
  },
  {
   "cell_type": "markdown",
   "metadata": {},
   "source": [
    "<h3> 4.1 Number of bids</h3>"
   ]
  },
  {
   "cell_type": "code",
   "execution_count": 354,
   "metadata": {},
   "outputs": [],
   "source": [
    "temp=bid_data.groupby('bidder_id').size().reset_index().sort_values(0,ascending=False)\n",
    "temp=temp.rename(columns={0:'num_bids'})\n",
    "bidder_data=bidder_data.merge(temp,on='bidder_id',how='inner')"
   ]
  },
  {
   "cell_type": "markdown",
   "metadata": {},
   "source": [
    "<h3>4.2 Number of bids per auction</h3>"
   ]
  },
  {
   "cell_type": "code",
   "execution_count": 355,
   "metadata": {},
   "outputs": [],
   "source": [
    "temp=bid_data.groupby(['bidder_id','auction']).size().reset_index().sort_values(0,ascending=False)\n",
    "temp=temp.rename(columns={0:'bids_per_auction'})\n",
    "temp=temp.groupby('bidder_id').bids_per_auction.median().sort_values(ascending=False).reset_index()\n",
    "temp=temp.rename(columns={'bids_per_auction':'bids_per_auction_median'})\n",
    "#Adding feature 'bids_per_auction_median'\n",
    "bidder_data=bidder_data.merge(temp,on='bidder_id',how='inner')\n",
    "bidder_data=bidder_data.fillna(0)"
   ]
  },
  {
   "cell_type": "code",
   "execution_count": 356,
   "metadata": {},
   "outputs": [
    {
     "data": {
      "image/png": "[encoded data removed]",
      "text/plain": [
       "<matplotlib.figure.Figure at 0x250aa8e6518>"
      ]
     },
     "metadata": {
      "needs_background": "light"
     },
     "output_type": "display_data"
    }
   ],
   "source": [
    "sns.FacetGrid(bidder_data, hue=\"outcome\", size=10) \\\n",
    "   .map(sns.distplot, \"bids_per_auction_median\") \\\n",
    "   .add_legend();\n",
    "plt.title('comparing Densities of medians of bids per auction among robots(1.0) and humans(0.0) ')\n",
    "plt.xlim(0,210)\n",
    "plt.show();"
   ]
  },
  {
   "cell_type": "markdown",
   "metadata": {},
   "source": [
    "__Every where in the plot, Density corresponding to robot is dominating which indicates importance of this feature__"
   ]
  },
  {
   "cell_type": "code",
   "execution_count": 357,
   "metadata": {},
   "outputs": [
    {
     "data": {
      "image/png": "[encoded data removed]",
      "text/plain": [
       "<matplotlib.figure.Figure at 0x250a696bcc0>"
      ]
     },
     "metadata": {
      "needs_background": "light"
     },
     "output_type": "display_data"
    }
   ],
   "source": [
    "sns.boxplot(x='outcome',y='bids_per_auction_median',data=bidder_data)\n",
    "plt.title('comparing medians of bids per auction among robots(1.0) and humans(0.0) ')\n",
    "plt.ylim(0,10)\n",
    "plt.show()"
   ]
  },
  {
   "cell_type": "markdown",
   "metadata": {},
   "source": [
    "<h3>4.3 Number of bids per device</h3>"
   ]
  },
  {
   "cell_type": "code",
   "execution_count": 358,
   "metadata": {},
   "outputs": [],
   "source": [
    "temp=bid_data.groupby(['bidder_id','device']).size().reset_index().sort_values(0,ascending=False)\n",
    "temp=temp.rename(columns={0:'bids_per_device'})\n",
    "temp=temp.groupby('bidder_id').bids_per_device.median().sort_values(ascending=False).reset_index()\n",
    "temp=temp.rename(columns={'bids_per_device':'bids_per_device_median'})\n",
    "#Adding Feature 'bids_per_device_median'\n",
    "bidder_data=bidder_data.merge(temp,on='bidder_id',how='inner')\n",
    "bidder_data=bidder_data.fillna(0)"
   ]
  },
  {
   "cell_type": "code",
   "execution_count": 359,
   "metadata": {},
   "outputs": [
    {
     "data": {
      "image/png": "[encoded data removed]",
      "text/plain": [
       "<matplotlib.figure.Figure at 0x2519a6469e8>"
      ]
     },
     "metadata": {
      "needs_background": "light"
     },
     "output_type": "display_data"
    }
   ],
   "source": [
    "sns.FacetGrid(bidder_data, hue=\"outcome\", size=10) \\\n",
    "   .map(sns.distplot, \"bids_per_device_median\") \\\n",
    "   .add_legend();\n",
    "plt.title('comparing Densities of medians of bids per device among robots(1.0) and humans(0.0) ')\n",
    "plt.xlim(0,1500)\n",
    "plt.show();"
   ]
  },
  {
   "cell_type": "code",
   "execution_count": 360,
   "metadata": {},
   "outputs": [
    {
     "data": {
      "image/png": "[encoded data removed]",
      "text/plain": [
       "<matplotlib.figure.Figure at 0x250a8020550>"
      ]
     },
     "metadata": {
      "needs_background": "light"
     },
     "output_type": "display_data"
    }
   ],
   "source": [
    "sns.boxplot(x='outcome',y='bids_per_device_median',data=bidder_data)\n",
    "plt.title('comparing medians of bids per device among robots(1.0) and humans(0.0) ')\n",
    "plt.ylim(0,40)\n",
    "plt.show()"
   ]
  },
  {
   "cell_type": "markdown",
   "metadata": {},
   "source": [
    "<h3>4.4 Number of bids per IP</h3>"
   ]
  },
  {
   "cell_type": "code",
   "execution_count": 361,
   "metadata": {},
   "outputs": [],
   "source": [
    "temp=bid_data.groupby(['bidder_id','ip']).size().reset_index().sort_values(0,ascending=False)\n",
    "temp=temp.rename(columns={0:'bids_per_ip'})\n",
    "temp=temp.groupby('bidder_id').bids_per_ip.median().sort_values(ascending=False).reset_index()\n",
    "temp=temp.rename(columns={'bids_per_ip':'bids_per_ip_median'})\n",
    "#Adding feature 'bids_per_ip_median'\n",
    "bidder_data=bidder_data.merge(temp,on='bidder_id',how='inner')\n",
    "bidder_data=bidder_data.fillna(0)"
   ]
  },
  {
   "cell_type": "code",
   "execution_count": 362,
   "metadata": {},
   "outputs": [
    {
     "data": {
      "image/png": "[encoded data removed]",
      "text/plain": [
       "<matplotlib.figure.Figure at 0x250a6ea84a8>"
      ]
     },
     "metadata": {
      "needs_background": "light"
     },
     "output_type": "display_data"
    }
   ],
   "source": [
    "sns.FacetGrid(bidder_data, hue=\"outcome\", size=5) \\\n",
    "   .map(sns.distplot, \"bids_per_ip_median\") \\\n",
    "   .add_legend();\n",
    "plt.title('comparing Densities of medians of bids per ip among robots(1.0) and humans(0.0) ')\n",
    "plt.xlim(0,1000)\n",
    "plt.show();"
   ]
  },
  {
   "cell_type": "code",
   "execution_count": 363,
   "metadata": {},
   "outputs": [
    {
     "data": {
      "image/png": "[encoded data removed]",
      "text/plain": [
       "<matplotlib.figure.Figure at 0x250a895ca20>"
      ]
     },
     "metadata": {
      "needs_background": "light"
     },
     "output_type": "display_data"
    }
   ],
   "source": [
    "sns.boxplot(x='outcome',y='bids_per_ip_median',data=bidder_data)\n",
    "plt.title('comparing medians of bids per ip among robots(1.0) and humans(0.0) ')\n",
    "plt.ylim(0,5)\n",
    "plt.show()"
   ]
  },
  {
   "cell_type": "markdown",
   "metadata": {},
   "source": [
    "<h3>4.5 Number of bids per country</h3>"
   ]
  },
  {
   "cell_type": "code",
   "execution_count": 364,
   "metadata": {},
   "outputs": [],
   "source": [
    "temp=bid_data.groupby(['bidder_id','country']).size().reset_index().sort_values(0,ascending=False)\n",
    "temp=temp.rename(columns={0:'bids_per_country'})\n",
    "temp=temp.groupby('bidder_id').bids_per_country.median().sort_values(ascending=False).reset_index()\n",
    "temp=temp.rename(columns={'bids_per_country':'bids_per_country_median'})\n",
    "#Adding feature 'bids_per_country_median'\n",
    "bidder_data=bidder_data.merge(temp,on='bidder_id',how='inner')\n",
    "bidder_data=bidder_data.fillna(0)"
   ]
  },
  {
   "cell_type": "code",
   "execution_count": 365,
   "metadata": {},
   "outputs": [
    {
     "data": {
      "image/png": "[encoded data removed]",
      "text/plain": [
       "<matplotlib.figure.Figure at 0x250aa9c1978>"
      ]
     },
     "metadata": {
      "needs_background": "light"
     },
     "output_type": "display_data"
    }
   ],
   "source": [
    "sns.FacetGrid(bidder_data, hue=\"outcome\", size=5) \\\n",
    "   .map(sns.distplot, \"bids_per_country_median\") \\\n",
    "   .add_legend();\n",
    "plt.title('comparing Densities of medians of bids per country among robots(1.0) and humans(0.0) ')\n",
    "plt.xlim(0,800)\n",
    "plt.show();"
   ]
  },
  {
   "cell_type": "code",
   "execution_count": 366,
   "metadata": {},
   "outputs": [
    {
     "data": {
      "image/png": "[encoded data removed]",
      "text/plain": [
       "<matplotlib.figure.Figure at 0x2512c791278>"
      ]
     },
     "metadata": {
      "needs_background": "light"
     },
     "output_type": "display_data"
    }
   ],
   "source": [
    "sns.boxplot(x='outcome',y='bids_per_country_median',data=bidder_data)\n",
    "plt.title('comparing medians of bids per country among robots(1.0) and humans(0.0) ')\n",
    "plt.ylim(0,100)\n",
    "plt.show()"
   ]
  },
  {
   "cell_type": "markdown",
   "metadata": {},
   "source": [
    "<h3> Baseline predictor </h3>"
   ]
  },
  {
   "cell_type": "markdown",
   "metadata": {},
   "source": [
    "<h3>Logistic Regression</h3>"
   ]
  },
  {
   "cell_type": "code",
   "execution_count": 367,
   "metadata": {},
   "outputs": [],
   "source": [
    "X=bidder_data.drop('outcome',axis=1)\n",
    "Y=bidder_data['outcome'].values\n",
    "X.drop('bidder_id',axis=1,inplace=True)\n",
    "X=(X-X.mean())/X.std()"
   ]
  },
  {
   "cell_type": "code",
   "execution_count": 368,
   "metadata": {},
   "outputs": [],
   "source": [
    "#Divide data in to train and test\n",
    "from sklearn.model_selection import train_test_split\n",
    "X_train,X_test,Y_train,Y_test=train_test_split(X,Y,stratify=Y,test_size=0.2)"
   ]
  },
  {
   "cell_type": "code",
   "execution_count": 369,
   "metadata": {},
   "outputs": [],
   "source": [
    "from sklearn.linear_model import LogisticRegression\n",
    "from sklearn.grid_search import GridSearchCV\n",
    "tuned_params=[{'C':[10**-4,10**-3,10**-2,10**-1,10**0,10**1,10**2,10**3,10**4]}]\n",
    "\n",
    "Logistic_grid=GridSearchCV(LogisticRegression(n_jobs=-1),tuned_params,cv=10,scoring='accuracy')"
   ]
  },
  {
   "cell_type": "code",
   "execution_count": 370,
   "metadata": {},
   "outputs": [
    {
     "name": "stdout",
     "output_type": "stream",
     "text": [
      "LogisticRegression(C=0.01, class_weight=None, dual=False, fit_intercept=True,\n",
      "          intercept_scaling=1, max_iter=100, multi_class='ovr', n_jobs=-1,\n",
      "          penalty='l2', random_state=None, solver='liblinear', tol=0.0001,\n",
      "          verbose=0, warm_start=False)\n"
     ]
    }
   ],
   "source": [
    "Logistic_grid.fit(X_train,Y_train)\n",
    "print(Logistic_grid.best_estimator_)"
   ]
  },
  {
   "cell_type": "code",
   "execution_count": 371,
   "metadata": {},
   "outputs": [
    {
     "name": "stdout",
     "output_type": "stream",
     "text": [
      "accuracy: 0.947103274559194\n"
     ]
    }
   ],
   "source": [
    "from sklearn.metrics import accuracy_score\n",
    "Y_hat=Logistic_grid.predict(X_test)\n",
    "print('accuracy:',accuracy_score(Y_test,Y_hat))"
   ]
  },
  {
   "cell_type": "code",
   "execution_count": 372,
   "metadata": {},
   "outputs": [
    {
     "name": "stdout",
     "output_type": "stream",
     "text": [
      "-------------------- Confusion matrix --------------------\n"
     ]
    },
    {
     "data": {
      "image/png": "[encoded data removed]",
      "text/plain": [
       "<matplotlib.figure.Figure at 0x2512c84ecf8>"
      ]
     },
     "metadata": {
      "needs_background": "light"
     },
     "output_type": "display_data"
    }
   ],
   "source": [
    "from sklearn.metrics import confusion_matrix\n",
    "import matplotlib.pyplot as plt\n",
    "import seaborn as sns\n",
    "cm=confusion_matrix(Y_test,Y_hat)\n",
    "labels=['negative','positive']\n",
    "x=plt.figure(figsize=(10,7))\n",
    "print(\"-\"*20, \"Confusion matrix\", \"-\"*20)\n",
    "sns.heatmap(cm,annot=True, cmap=\"YlGnBu\", fmt=\".3f\", xticklabels=labels, yticklabels=labels)\n",
    "plt.xlabel('predicted labels')\n",
    "plt.ylabel('Actual labels')\n",
    "plt.show()"
   ]
  },
  {
   "cell_type": "code",
   "execution_count": 373,
   "metadata": {},
   "outputs": [
    {
     "name": "stdout",
     "output_type": "stream",
     "text": [
      "AUC - ROC :  0.5\n"
     ]
    }
   ],
   "source": [
    "from sklearn.metrics import roc_auc_score\n",
    "print(\"AUC - ROC : \", roc_auc_score(Y_test,Y_hat))"
   ]
  },
  {
   "cell_type": "code",
   "execution_count": 374,
   "metadata": {},
   "outputs": [
    {
     "name": "stdout",
     "output_type": "stream",
     "text": [
      "True Negative Rate(TNR): 100.0\n",
      "False Positive Rate(FPR) 0.0\n",
      "False Negative Rate(FNR): 100.0\n",
      "True positive Rate(TPR): 0.0\n",
      "Precision: nan\n",
      "Recall(TPR): 0.0\n",
      "F1 score: nan\n"
     ]
    }
   ],
   "source": [
    "TN=cm[0][0]\n",
    "FP=cm[0][1]\n",
    "N=TN+FP\n",
    "print(\"True Negative Rate(TNR):\",(TN/N)*100)\n",
    "print(\"False Positive Rate(FPR)\",(FP/N)*100)\n",
    "FN=cm[1][0]\n",
    "TP=cm[1][1]\n",
    "P=FN+TP\n",
    "print(\"False Negative Rate(FNR):\",(FN/P)*100)\n",
    "print(\"True positive Rate(TPR):\",(TP/P)*100)\n",
    "#precision: Of all the points predicted as positive how many of them actually positive\n",
    "Pr=(TP/(TP+FP))*100\n",
    "print(\"Precision:\",Pr)\n",
    "Re=(TP/P)*100\n",
    "print(\"Recall(TPR):\",Re)\n",
    "F1=2*(Pr*Re)/(Pr+Re)\n",
    "print(\"F1 score:\",F1)"
   ]
  },
  {
   "cell_type": "markdown",
   "metadata": {},
   "source": [
    "<h3>5.2 Decision Tree</h3>"
   ]
  },
  {
   "cell_type": "code",
   "execution_count": 375,
   "metadata": {},
   "outputs": [],
   "source": [
    "from sklearn.tree import DecisionTreeClassifier\n",
    "from sklearn.model_selection import cross_val_score\n",
    "depth=[2,3,4,5,6,7,8,9,10,15,20,25,30]\n",
    "cv_scores=[]\n",
    "for d in depth:\n",
    "    clf=DecisionTreeClassifier(max_depth=d)\n",
    "    scores=cross_val_score(clf,X_train,Y_train,cv=10,scoring='accuracy')\n",
    "    cv_scores.append(scores.mean())"
   ]
  },
  {
   "cell_type": "code",
   "execution_count": 376,
   "metadata": {},
   "outputs": [
    {
     "name": "stdout",
     "output_type": "stream",
     "text": [
      "optimal depth of Tree is 2\n"
     ]
    }
   ],
   "source": [
    "import matplotlib.pylab as plt\n",
    "MSE=[1-x for x in cv_scores]\n",
    "min_index=MSE.index(min(MSE))\n",
    "optimal_depth=depth[min_index]\n",
    "print(\"optimal depth of Tree is %d\"% optimal_depth)"
   ]
  },
  {
   "cell_type": "code",
   "execution_count": 377,
   "metadata": {},
   "outputs": [
    {
     "data": {
      "image/png": "[encoded data removed]",
      "text/plain": [
       "<matplotlib.figure.Figure at 0x2512c791b38>"
      ]
     },
     "metadata": {
      "needs_background": "light"
     },
     "output_type": "display_data"
    }
   ],
   "source": [
    "plt.plot(depth,MSE)\n",
    "plt.title('plot for finding optimal depth')\n",
    "plt.xlabel('depth')\n",
    "plt.ylabel('CV error')\n",
    "plt.show()"
   ]
  },
  {
   "cell_type": "code",
   "execution_count": 378,
   "metadata": {},
   "outputs": [
    {
     "data": {
      "text/plain": [
       "DecisionTreeClassifier(class_weight=None, criterion='gini', max_depth=2,\n",
       "            max_features=None, max_leaf_nodes=None,\n",
       "            min_impurity_decrease=0.0, min_impurity_split=None,\n",
       "            min_samples_leaf=1, min_samples_split=2,\n",
       "            min_weight_fraction_leaf=0.0, presort=False, random_state=None,\n",
       "            splitter='best')"
      ]
     },
     "execution_count": 378,
     "metadata": {},
     "output_type": "execute_result"
    }
   ],
   "source": [
    "clf=DecisionTreeClassifier(max_depth=optimal_depth)\n",
    "clf.fit(X_train,Y_train)"
   ]
  },
  {
   "cell_type": "code",
   "execution_count": 379,
   "metadata": {},
   "outputs": [
    {
     "name": "stdout",
     "output_type": "stream",
     "text": [
      "accuracy: 0.9596977329974811\n"
     ]
    }
   ],
   "source": [
    "pred=clf.predict(X_test)\n",
    "print('accuracy:',accuracy_score(Y_test,pred))"
   ]
  },
  {
   "cell_type": "code",
   "execution_count": 380,
   "metadata": {},
   "outputs": [
    {
     "name": "stdout",
     "output_type": "stream",
     "text": [
      "-------------------- Confusion matrix --------------------\n"
     ]
    },
    {
     "data": {
      "image/png": "[encoded data removed]",
      "text/plain": [
       "<matplotlib.figure.Figure at 0x250a6a9fe48>"
      ]
     },
     "metadata": {
      "needs_background": "light"
     },
     "output_type": "display_data"
    }
   ],
   "source": [
    "from sklearn.metrics import confusion_matrix\n",
    "import matplotlib.pyplot as plt\n",
    "import seaborn as sns\n",
    "cm=confusion_matrix(Y_test,pred)\n",
    "labels=['negative','positive']\n",
    "x=plt.figure(figsize=(10,7))\n",
    "print(\"-\"*20, \"Confusion matrix\", \"-\"*20)\n",
    "sns.heatmap(cm,annot=True, cmap=\"YlGnBu\", fmt=\".3f\", xticklabels=labels, yticklabels=labels)\n",
    "plt.xlabel('predicted labels')\n",
    "plt.ylabel('Actual labels')\n",
    "plt.show()"
   ]
  },
  {
   "cell_type": "code",
   "execution_count": 381,
   "metadata": {},
   "outputs": [
    {
     "name": "stdout",
     "output_type": "stream",
     "text": [
      "AUC - ROC :  0.708966565349544\n"
     ]
    }
   ],
   "source": [
    "print(\"AUC - ROC : \", roc_auc_score(Y_test,pred))"
   ]
  },
  {
   "cell_type": "code",
   "execution_count": 382,
   "metadata": {},
   "outputs": [
    {
     "name": "stdout",
     "output_type": "stream",
     "text": [
      "True Negative Rate(TNR): 98.93617021276596\n",
      "False Positive Rate(FPR) 1.0638297872340425\n",
      "False Negative Rate(FNR): 57.14285714285714\n",
      "True positive Rate(TPR): 42.857142857142854\n",
      "Precision: 69.23076923076923\n",
      "Recall(TPR): 42.857142857142854\n",
      "F1 score: 52.941176470588225\n"
     ]
    }
   ],
   "source": [
    "TN=cm[0][0]\n",
    "FP=cm[0][1]\n",
    "N=TN+FP\n",
    "print(\"True Negative Rate(TNR):\",(TN/N)*100)\n",
    "print(\"False Positive Rate(FPR)\",(FP/N)*100)\n",
    "FN=cm[1][0]\n",
    "TP=cm[1][1]\n",
    "P=FN+TP\n",
    "print(\"False Negative Rate(FNR):\",(FN/P)*100)\n",
    "print(\"True positive Rate(TPR):\",(TP/P)*100)\n",
    "#precision: Of all the points predicted as positive how many of them actually positive\n",
    "Pr=(TP/(TP+FP))*100\n",
    "print(\"Precision:\",Pr)\n",
    "Re=(TP/P)*100\n",
    "print(\"Recall(TPR):\",Re)\n",
    "F1=2*(Pr*Re)/(Pr+Re)\n",
    "print(\"F1 score:\",F1)"
   ]
  },
  {
   "cell_type": "markdown",
   "metadata": {},
   "source": [
    "__From baseline predeictions, we understood the data is highly non linear. we will do some more feature engineering__"
   ]
  },
  {
   "cell_type": "markdown",
   "metadata": {},
   "source": [
    "<h3>4.6 Number of auctions participated</h3>"
   ]
  },
  {
   "cell_type": "code",
   "execution_count": 383,
   "metadata": {},
   "outputs": [],
   "source": [
    "temp=bid_data[['bidder_id','auction']]\n",
    "temp=temp.groupby(['bidder_id']).auction.nunique().reset_index().sort_values('auction',ascending=False)\n",
    "temp=temp.rename(columns={'auction':'unique_auctions_participated'})\n",
    "#Adding feature 'unique_auctions_participated' to bidder_data\n",
    "bidder_data=bidder_data.merge(temp,on='bidder_id',how='inner')\n",
    "bidder_data=bidder_data.fillna(0)"
   ]
  },
  {
   "cell_type": "code",
   "execution_count": 384,
   "metadata": {},
   "outputs": [
    {
     "data": {
      "image/png": "[encoded data removed]",
      "text/plain": [
       "<matplotlib.figure.Figure at 0x2512c780978>"
      ]
     },
     "metadata": {
      "needs_background": "light"
     },
     "output_type": "display_data"
    }
   ],
   "source": [
    "sns.boxplot(x='outcome',y='unique_auctions_participated',data=bidder_data)\n",
    "plt.title('comparing number of auctions participated among robots(1.0) and humans(0.0) ')\n",
    "plt.ylim(0,400)\n",
    "plt.show()"
   ]
  },
  {
   "cell_type": "markdown",
   "metadata": {},
   "source": [
    "<h3>4.7 Number Ips used by bidder</h3>"
   ]
  },
  {
   "cell_type": "code",
   "execution_count": 385,
   "metadata": {},
   "outputs": [],
   "source": [
    "temp=bid_data[['bidder_id','ip']]\n",
    "temp=temp.groupby(['bidder_id']).ip.nunique().reset_index().sort_values('ip',ascending=False)\n",
    "temp=temp.rename(columns={'ip':'unique_ips_used'})\n",
    "#Adding feature unique_ips_used\n",
    "bidder_data=bidder_data.merge(temp,on='bidder_id',how='inner')\n",
    "bidder_data=bidder_data.fillna(0)"
   ]
  },
  {
   "cell_type": "code",
   "execution_count": 386,
   "metadata": {
    "scrolled": true
   },
   "outputs": [
    {
     "data": {
      "image/png": "[encoded data removed]",
      "text/plain": [
       "<matplotlib.figure.Figure at 0x250a6680ba8>"
      ]
     },
     "metadata": {
      "needs_background": "light"
     },
     "output_type": "display_data"
    }
   ],
   "source": [
    "sns.boxplot(x='outcome',y='unique_ips_used',data=bidder_data)\n",
    "plt.title('comparing number of ips used among robots(1.0) and humans(0.0) ')\n",
    "plt.ylim(0,1500)\n",
    "plt.show()"
   ]
  },
  {
   "cell_type": "markdown",
   "metadata": {},
   "source": [
    "<h3>4.8 Number devices used by bidder</h3>"
   ]
  },
  {
   "cell_type": "code",
   "execution_count": 387,
   "metadata": {},
   "outputs": [],
   "source": [
    "temp=bid_data[['bidder_id','device']]\n",
    "temp=temp.groupby(['bidder_id']).device.nunique().reset_index().sort_values('device',ascending=False)\n",
    "temp=temp.rename(columns={'device':'unique_devices_used'})\n",
    "#Adding feature 'unique_devices_used'\n",
    "bidder_data=bidder_data.merge(temp,on='bidder_id',how='inner')\n",
    "bidder_data=bidder_data.fillna(0)"
   ]
  },
  {
   "cell_type": "code",
   "execution_count": 388,
   "metadata": {},
   "outputs": [
    {
     "data": {
      "image/png": "[encoded data removed]",
      "text/plain": [
       "<matplotlib.figure.Figure at 0x250a893aa90>"
      ]
     },
     "metadata": {
      "needs_background": "light"
     },
     "output_type": "display_data"
    }
   ],
   "source": [
    "sns.boxplot(x='outcome',y='unique_devices_used',data=bidder_data)\n",
    "plt.title('comparing number of devices used among robots(1.0) and humans(0.0) ')\n",
    "plt.ylim(0,550)\n",
    "plt.show()"
   ]
  },
  {
   "cell_type": "markdown",
   "metadata": {},
   "source": [
    "<h3>4.9 Features related to Response time</h3>"
   ]
  },
  {
   "cell_type": "markdown",
   "metadata": {},
   "source": [
    "__Response time is the time between successive bids per each bidder irrespective of auctions participating__"
   ]
  },
  {
   "cell_type": "code",
   "execution_count": 389,
   "metadata": {},
   "outputs": [],
   "source": [
    "temp=pd.DataFrame(bidder_data['bidder_id'])"
   ]
  },
  {
   "cell_type": "code",
   "execution_count": 390,
   "metadata": {},
   "outputs": [],
   "source": [
    "resp_min=[]   #min's of response time\n",
    "resp_mean=[]  #mean's of response time\n",
    "resp_median=[] #median's of response time"
   ]
  },
  {
   "cell_type": "code",
   "execution_count": 391,
   "metadata": {},
   "outputs": [],
   "source": [
    "if os.path.isfile('resp_min.pickle') and os.path.isfile('resp_mean.pickle') and os.path.isfile('resp_median.pickle'):\n",
    "    pickle_in=open('resp_min.pickle','rb')\n",
    "    resp_min=pickle.load(pickle_in)\n",
    "    pickle_in.close()\n",
    "    pickle_in=open('resp_mean.pickle','rb')\n",
    "    resp_mean=pickle.load(pickle_in)\n",
    "    pickle_in.close()\n",
    "    pickle_in=open('resp_median.pickle','rb')\n",
    "    resp_median=pickle.load(pickle_in)\n",
    "    pickle_in.close()\n",
    "else:\n",
    "    bidders=bidder_data['bidder_id']\n",
    "    for bidder in bidders:\n",
    "        l=bid_data[bid_data.bidder_id==bidder]\n",
    "        if(l.shape[0]==1):\n",
    "            resp_min.append(float(0))\n",
    "            resp_mean.append(float(0))\n",
    "            resp_median.append(float(0))\n",
    "        continue\n",
    "        l.sort_values('time',ascending=True,inplace=True)\n",
    "        time=[]\n",
    "        diff=[] #stores the consecutive differences in time\n",
    "        i=0\n",
    "        for i in range(l.shape[0]):\n",
    "            temp_1=l.iloc[i]\n",
    "            time.append(float(temp_1['time']))\n",
    "            if(i==l.shape[0]-1):\n",
    "                continue\n",
    "            else:\n",
    "                temp_2=l.iloc[i+1]\n",
    "            temp_1=temp_1['time']\n",
    "            temp_2=temp_2['time']\n",
    "            diff.append(float(temp_2-temp_1))\n",
    "            i=i+1\n",
    "        l=pd.Series(diff)\n",
    "        resp_min.append(float(l.min()))\n",
    "        resp_mean.append(float(l.mean()))\n",
    "        resp_median.append(float(l.median()))\n",
    "        \n",
    "        pickle_out=open('resp_min.pickle','rw')\n",
    "        resp_min=pickle.dump(pickle_out)\n",
    "        pickle_out.close()\n",
    "        \n",
    "        pickle_out=open('resp_mean.pickle','rw')\n",
    "        resp_min=pickle.dump(pickle_out)\n",
    "        pickle_out.close()\n",
    "        \n",
    "        pickle_out=open('resp_median.pickle','rw')\n",
    "        resp_median=pickle.dump(pickle_out)\n",
    "        pickle_out.close()"
   ]
  },
  {
   "cell_type": "code",
   "execution_count": 392,
   "metadata": {},
   "outputs": [],
   "source": [
    "resp_min=pd.Series(resp_min)\n",
    "resp_mean=pd.Series(resp_mean)\n",
    "resp_median=pd.Series(resp_median)\n",
    "temp.insert(loc=1,column='response_min',value=resp_min)\n",
    "temp.insert(loc=2,column='response_mean',value=resp_mean)\n",
    "temp.insert(loc=3,column='response_median',value=resp_median)"
   ]
  },
  {
   "cell_type": "code",
   "execution_count": 393,
   "metadata": {},
   "outputs": [],
   "source": [
    "bidder_data=bidder_data.merge(temp,on='bidder_id',how='inner')\n",
    "bidder_data=bidder_data.fillna(-1)"
   ]
  },
  {
   "cell_type": "code",
   "execution_count": 394,
   "metadata": {},
   "outputs": [],
   "source": [
    "bidder_data.sort_values('response_median',ascending=True,inplace=True)"
   ]
  },
  {
   "cell_type": "code",
   "execution_count": 395,
   "metadata": {},
   "outputs": [
    {
     "data": {
      "image/png": "[encoded data removed]",
      "text/plain": [
       "<matplotlib.figure.Figure at 0x250a979c588>"
      ]
     },
     "metadata": {
      "needs_background": "light"
     },
     "output_type": "display_data"
    }
   ],
   "source": [
    "sns.FacetGrid(bidder_data, hue=\"outcome\", size=5) \\\n",
    "   .map(sns.distplot, \"response_median\") \\\n",
    "   .add_legend();\n",
    "plt.title('comparing response median of bidders among robots(1.0) and humans(0.0) ')\n",
    "plt.xlim(0,7.5e12)\n",
    "plt.ylim(0,1e-12)\n",
    "plt.show();"
   ]
  },
  {
   "cell_type": "markdown",
   "metadata": {},
   "source": [
    "<h3>4.10 Merchandise participated by bidder</h3>"
   ]
  },
  {
   "cell_type": "code",
   "execution_count": 396,
   "metadata": {},
   "outputs": [],
   "source": [
    "temp=bid_data.groupby('bidder_id').merchandise.first().reset_index().rename(columns={0:'merchandise'})\n",
    "bidder_data=bidder_data.merge(temp,on='bidder_id',how='inner')\n",
    "#http://queirozf.com/entries/one-hot-encoding-a-feature-on-a-pandas-dataframe-an-example\n",
    "bidder_data=pd.concat([bidder_data,pd.get_dummies(bidder_data['merchandise'], prefix='merchandise')],axis=1).drop(['merchandise'],axis=1)"
   ]
  },
  {
   "cell_type": "markdown",
   "metadata": {},
   "source": [
    "<h3>4.11 Time between last and first auction</h3>"
   ]
  },
  {
   "cell_type": "code",
   "execution_count": 397,
   "metadata": {},
   "outputs": [],
   "source": [
    "temp=pd.DataFrame(bidder_data['bidder_id'])"
   ]
  },
  {
   "cell_type": "code",
   "execution_count": 398,
   "metadata": {},
   "outputs": [],
   "source": [
    "duration=[]   #stores time differences\n",
    "if os.path.isfile('resp_min.pickle'):\n",
    "    pickle_in=open('duration.pickle','rb')\n",
    "    duration=pickle.load(pickle_in)\n",
    "    pickle_in.close()\n",
    "else:\n",
    "    bidders=bidder_data.bidder_id.values\n",
    "    for bidder in bidders:\n",
    "        l=bid_data[bid_data.bidder_id==bidder]\n",
    "        if(l.shape[0]==1):\n",
    "            duration.append(float(0))\n",
    "            continue\n",
    "        l.sort_values('time',ascending=True,inplace=True)\n",
    "        temp_1=l.iloc[0]\n",
    "        if(l.shape[0]==1):\n",
    "            continue\n",
    "        else:\n",
    "            temp_2=l.iloc[l.shape[0]-1]\n",
    "        temp_1=temp_1['time']\n",
    "        temp_2=temp_2['time']\n",
    "        duration.append(float(temp_2-temp_1)) \n",
    "        \n",
    "        pickle_out=open('duration.pickle','rw')\n",
    "        duration=pickle.load(pickle_out)\n",
    "        pickle_out.close()"
   ]
  },
  {
   "cell_type": "code",
   "execution_count": 399,
   "metadata": {},
   "outputs": [],
   "source": [
    "duration=pd.Series(duration)\n",
    "temp.insert(loc=1,column='duration',value=duration)\n",
    "bidder_data=bidder_data.merge(temp,on='bidder_id',how='inner')\n",
    "bidder_data=bidder_data.fillna(-1)"
   ]
  },
  {
   "cell_type": "markdown",
   "metadata": {},
   "source": [
    "<h2>5 Machine Learning model</h2>"
   ]
  },
  {
   "cell_type": "markdown",
   "metadata": {},
   "source": [
    "<h3>5.1 Logistic Regression</h3>"
   ]
  },
  {
   "cell_type": "code",
   "execution_count": 400,
   "metadata": {},
   "outputs": [],
   "source": [
    "X=bidder_data.drop('outcome',axis=1)\n",
    "Y=bidder_data['outcome'].values\n",
    "X.drop('bidder_id',axis=1,inplace=True)\n",
    "X=(X-X.mean())/X.std()"
   ]
  },
  {
   "cell_type": "code",
   "execution_count": 401,
   "metadata": {},
   "outputs": [],
   "source": [
    "#Divide data in to train and test\n",
    "from sklearn.model_selection import train_test_split\n",
    "X_train,X_test,Y_train,Y_test=train_test_split(X,Y,stratify=Y,test_size=0.2)"
   ]
  },
  {
   "cell_type": "code",
   "execution_count": 402,
   "metadata": {},
   "outputs": [],
   "source": [
    "from sklearn.linear_model import LogisticRegression\n",
    "from sklearn.grid_search import GridSearchCV\n",
    "tuned_params=[{'C':[10**-4,10**-3,10**-2,10**-1,10**0,10**1,10**2,10**3,10**4]}]\n",
    "\n",
    "Logistic_grid=GridSearchCV(LogisticRegression(n_jobs=-1),tuned_params,cv=10,scoring='accuracy')"
   ]
  },
  {
   "cell_type": "code",
   "execution_count": 403,
   "metadata": {},
   "outputs": [
    {
     "name": "stdout",
     "output_type": "stream",
     "text": [
      "LogisticRegression(C=0.01, class_weight=None, dual=False, fit_intercept=True,\n",
      "          intercept_scaling=1, max_iter=100, multi_class='ovr', n_jobs=-1,\n",
      "          penalty='l2', random_state=None, solver='liblinear', tol=0.0001,\n",
      "          verbose=0, warm_start=False)\n"
     ]
    }
   ],
   "source": [
    "Logistic_grid.fit(X_train,Y_train)\n",
    "print(Logistic_grid.best_estimator_)"
   ]
  },
  {
   "cell_type": "code",
   "execution_count": 404,
   "metadata": {},
   "outputs": [
    {
     "name": "stdout",
     "output_type": "stream",
     "text": [
      "accuracy: 0.947103274559194\n"
     ]
    }
   ],
   "source": [
    "from sklearn.metrics import accuracy_score\n",
    "Y_hat=Logistic_grid.predict(X_test)\n",
    "print('accuracy:',accuracy_score(Y_test,Y_hat))"
   ]
  },
  {
   "cell_type": "code",
   "execution_count": 405,
   "metadata": {},
   "outputs": [
    {
     "name": "stdout",
     "output_type": "stream",
     "text": [
      "-------------------- Confusion matrix --------------------\n"
     ]
    },
    {
     "data": {
      "image/png": "[encoded data removed]",
      "text/plain": [
       "<matplotlib.figure.Figure at 0x250a7eb92b0>"
      ]
     },
     "metadata": {
      "needs_background": "light"
     },
     "output_type": "display_data"
    }
   ],
   "source": [
    "cm=confusion_matrix(Y_test,Y_hat)\n",
    "labels=['negative','positive']\n",
    "x=plt.figure(figsize=(10,7))\n",
    "print(\"-\"*20, \"Confusion matrix\", \"-\"*20)\n",
    "sns.heatmap(cm,annot=True, cmap=\"YlGnBu\", fmt=\".3f\", xticklabels=labels, yticklabels=labels)\n",
    "plt.xlabel('predicted labels')\n",
    "plt.ylabel('Actual labels')\n",
    "plt.show()"
   ]
  },
  {
   "cell_type": "code",
   "execution_count": 406,
   "metadata": {},
   "outputs": [
    {
     "name": "stdout",
     "output_type": "stream",
     "text": [
      "AUC - ROC :  0.5\n"
     ]
    }
   ],
   "source": [
    "from sklearn.metrics import roc_auc_score\n",
    "print(\"AUC - ROC : \", roc_auc_score(Y_test,Y_hat))"
   ]
  },
  {
   "cell_type": "code",
   "execution_count": 407,
   "metadata": {},
   "outputs": [
    {
     "name": "stdout",
     "output_type": "stream",
     "text": [
      "True Negative Rate(TNR): 100.0\n",
      "False Positive Rate(FPR) 0.0\n",
      "False Negative Rate(FNR): 100.0\n",
      "True positive Rate(TPR): 0.0\n",
      "Precision: nan\n",
      "Recall(TPR): 0.0\n",
      "F1 score: nan\n"
     ]
    }
   ],
   "source": [
    "TN=cm[0][0]\n",
    "FP=cm[0][1]\n",
    "N=TN+FP\n",
    "print(\"True Negative Rate(TNR):\",(TN/N)*100)\n",
    "print(\"False Positive Rate(FPR)\",(FP/N)*100)\n",
    "FN=cm[1][0]\n",
    "TP=cm[1][1]\n",
    "P=FN+TP\n",
    "print(\"False Negative Rate(FNR):\",(FN/P)*100)\n",
    "print(\"True positive Rate(TPR):\",(TP/P)*100)\n",
    "#precision: Of all the points predicted as positive how many of them actually positive\n",
    "Pr=(TP/(TP+FP))*100\n",
    "print(\"Precision:\",Pr)\n",
    "Re=(TP/P)*100\n",
    "print(\"Recall(TPR):\",Re)\n",
    "F1=2*(Pr*Re)/(Pr+Re)\n",
    "print(\"F1 score:\",F1)"
   ]
  },
  {
   "cell_type": "markdown",
   "metadata": {},
   "source": [
    "__Not performing well __"
   ]
  },
  {
   "cell_type": "markdown",
   "metadata": {},
   "source": [
    "<h3>5.2 Decision Tree</h3>"
   ]
  },
  {
   "cell_type": "code",
   "execution_count": 408,
   "metadata": {},
   "outputs": [],
   "source": [
    "from sklearn.tree import DecisionTreeClassifier\n",
    "depth=[2,3,4,5,6,7,8,9,10,15,20,25,30]\n",
    "cv_scores=[]\n",
    "for d in depth:\n",
    "    clf=DecisionTreeClassifier(max_depth=d)\n",
    "    scores=cross_val_score(clf,X_train,Y_train,cv=10,scoring='accuracy')\n",
    "    cv_scores.append(scores.mean())"
   ]
  },
  {
   "cell_type": "code",
   "execution_count": 409,
   "metadata": {},
   "outputs": [
    {
     "name": "stdout",
     "output_type": "stream",
     "text": [
      "optimal depth of Tree is 4\n"
     ]
    },
    {
     "data": {
      "image/png": "[encoded data removed]",
      "text/plain": [
       "<matplotlib.figure.Figure at 0x250a895aa20>"
      ]
     },
     "metadata": {
      "needs_background": "light"
     },
     "output_type": "display_data"
    }
   ],
   "source": [
    "import matplotlib.pylab as plt\n",
    "MSE=[1-x for x in cv_scores]\n",
    "min_index=MSE.index(min(MSE))\n",
    "optimal_depth=depth[min_index]\n",
    "print(\"optimal depth of Tree is %d\"% optimal_depth)\n",
    "\n",
    "plt.plot(depth,MSE)\n",
    "plt.title('plot for finding optimal depth')\n",
    "plt.xlabel('depth')\n",
    "plt.ylabel('CV error')\n",
    "plt.show()"
   ]
  },
  {
   "cell_type": "code",
   "execution_count": 410,
   "metadata": {},
   "outputs": [
    {
     "data": {
      "text/plain": [
       "DecisionTreeClassifier(class_weight=None, criterion='gini', max_depth=4,\n",
       "            max_features=None, max_leaf_nodes=None,\n",
       "            min_impurity_decrease=0.0, min_impurity_split=None,\n",
       "            min_samples_leaf=1, min_samples_split=2,\n",
       "            min_weight_fraction_leaf=0.0, presort=False, random_state=None,\n",
       "            splitter='best')"
      ]
     },
     "execution_count": 410,
     "metadata": {},
     "output_type": "execute_result"
    }
   ],
   "source": [
    "clf=DecisionTreeClassifier(max_depth=optimal_depth)\n",
    "clf.fit(X_train,Y_train)"
   ]
  },
  {
   "cell_type": "code",
   "execution_count": 412,
   "metadata": {},
   "outputs": [
    {
     "name": "stdout",
     "output_type": "stream",
     "text": [
      "accuracy: 0.9521410579345088\n"
     ]
    }
   ],
   "source": [
    "pred=clf.predict(X_test)\n",
    "print('accuracy:',accuracy_score(Y_test,pred))"
   ]
  },
  {
   "cell_type": "code",
   "execution_count": 413,
   "metadata": {},
   "outputs": [
    {
     "name": "stdout",
     "output_type": "stream",
     "text": [
      "-------------------- Confusion matrix --------------------\n"
     ]
    },
    {
     "data": {
      "image/png": "[encoded data removed]",
      "text/plain": [
       "<matplotlib.figure.Figure at 0x2512c876fd0>"
      ]
     },
     "metadata": {
      "needs_background": "light"
     },
     "output_type": "display_data"
    }
   ],
   "source": [
    "from sklearn.metrics import confusion_matrix\n",
    "import matplotlib.pyplot as plt\n",
    "import seaborn as sns\n",
    "cm=confusion_matrix(Y_test,pred)\n",
    "labels=['negative','positive']\n",
    "x=plt.figure(figsize=(10,7))\n",
    "print(\"-\"*20, \"Confusion matrix\", \"-\"*20)\n",
    "sns.heatmap(cm,annot=True, cmap=\"YlGnBu\", fmt=\".3f\", xticklabels=labels, yticklabels=labels)\n",
    "plt.xlabel('predicted labels')\n",
    "plt.ylabel('Actual labels')\n",
    "plt.show()"
   ]
  },
  {
   "cell_type": "code",
   "execution_count": 414,
   "metadata": {},
   "outputs": [
    {
     "name": "stdout",
     "output_type": "stream",
     "text": [
      "AUC - ROC :  0.6600177304964538\n"
     ]
    }
   ],
   "source": [
    "print(\"AUC - ROC : \", roc_auc_score(Y_test,pred))"
   ]
  },
  {
   "cell_type": "code",
   "execution_count": 415,
   "metadata": {},
   "outputs": [
    {
     "name": "stdout",
     "output_type": "stream",
     "text": [
      "True Negative Rate(TNR): 98.67021276595744\n",
      "False Positive Rate(FPR) 1.3297872340425532\n",
      "False Negative Rate(FNR): 66.66666666666666\n",
      "True positive Rate(TPR): 33.33333333333333\n",
      "Precision: 58.333333333333336\n",
      "Recall(TPR): 33.33333333333333\n",
      "F1 score: 42.42424242424243\n"
     ]
    }
   ],
   "source": [
    "TN=cm[0][0]\n",
    "FP=cm[0][1]\n",
    "N=TN+FP\n",
    "print(\"True Negative Rate(TNR):\",(TN/N)*100)\n",
    "print(\"False Positive Rate(FPR)\",(FP/N)*100)\n",
    "FN=cm[1][0]\n",
    "TP=cm[1][1]\n",
    "P=FN+TP\n",
    "print(\"False Negative Rate(FNR):\",(FN/P)*100)\n",
    "print(\"True positive Rate(TPR):\",(TP/P)*100)\n",
    "#precision: Of all the points predicted as positive how many of them actually positive\n",
    "Pr=(TP/(TP+FP))*100\n",
    "print(\"Precision:\",Pr)\n",
    "Re=(TP/P)*100\n",
    "print(\"Recall(TPR):\",Re)\n",
    "F1=2*(Pr*Re)/(Pr+Re)\n",
    "print(\"F1 score:\",F1)"
   ]
  },
  {
   "cell_type": "markdown",
   "metadata": {},
   "source": [
    "<h3> 5.3 Random Forest Classifier</h3>"
   ]
  },
  {
   "cell_type": "code",
   "execution_count": 416,
   "metadata": {},
   "outputs": [],
   "source": [
    "from sklearn.model_selection import cross_val_score\n",
    "from sklearn.ensemble import RandomForestClassifier\n",
    "c=[2,5,10,15,20,25,30,35,40,45,50,55,60,75,100,125,150,175,200,500,1000]\n",
    "cv_scores=[]\n",
    "for d in c:\n",
    "    clf=RandomForestClassifier(n_estimators=d,n_jobs=-1)\n",
    "    scores=cross_val_score(clf,X_train,Y_train,cv=10,scoring='accuracy')\n",
    "    cv_scores.append(scores.mean())"
   ]
  },
  {
   "cell_type": "code",
   "execution_count": 417,
   "metadata": {},
   "outputs": [
    {
     "name": "stdout",
     "output_type": "stream",
     "text": [
      "optimal number of classifiers in Random Forest is 30\n"
     ]
    },
    {
     "data": {
      "image/png": "[encoded data removed]",
      "text/plain": [
       "<matplotlib.figure.Figure at 0x2512c879278>"
      ]
     },
     "metadata": {
      "needs_background": "light"
     },
     "output_type": "display_data"
    }
   ],
   "source": [
    "import matplotlib.pylab as plt\n",
    "MSE=[1-x for x in cv_scores]\n",
    "min_index=MSE.index(min(MSE))\n",
    "optimal_c=c[min_index]\n",
    "print(\"optimal number of classifiers in Random Forest is %d\"% optimal_c)\n",
    "\n",
    "plt.plot(c,MSE)\n",
    "plt.title('plot for finding optimal number of classifiers in Random Forest')\n",
    "plt.xlabel('number of classifiers')\n",
    "plt.ylabel('CV error')\n",
    "plt.show()"
   ]
  },
  {
   "cell_type": "code",
   "execution_count": 418,
   "metadata": {},
   "outputs": [
    {
     "data": {
      "text/plain": [
       "RandomForestClassifier(bootstrap=True, class_weight=None, criterion='gini',\n",
       "            max_depth=None, max_features='auto', max_leaf_nodes=None,\n",
       "            min_impurity_decrease=0.0, min_impurity_split=None,\n",
       "            min_samples_leaf=1, min_samples_split=2,\n",
       "            min_weight_fraction_leaf=0.0, n_estimators=30, n_jobs=-1,\n",
       "            oob_score=True, random_state=None, verbose=0, warm_start=False)"
      ]
     },
     "execution_count": 418,
     "metadata": {},
     "output_type": "execute_result"
    }
   ],
   "source": [
    "RF_clf=RandomForestClassifier(n_estimators=optimal_c,oob_score=True,n_jobs=-1)\n",
    "RF_clf.fit(X_train,Y_train)"
   ]
  },
  {
   "cell_type": "code",
   "execution_count": 419,
   "metadata": {},
   "outputs": [
    {
     "name": "stdout",
     "output_type": "stream",
     "text": [
      "0.9622166246851386\n"
     ]
    }
   ],
   "source": [
    "pred=RF_clf.predict(X_test)\n",
    "print(accuracy_score(Y_test,pred))"
   ]
  },
  {
   "cell_type": "code",
   "execution_count": 420,
   "metadata": {},
   "outputs": [
    {
     "name": "stdout",
     "output_type": "stream",
     "text": [
      "-------------------- Confusion matrix --------------------\n"
     ]
    },
    {
     "data": {
      "image/png": "[encoded data removed]",
      "text/plain": [
       "<matplotlib.figure.Figure at 0x250a89e6198>"
      ]
     },
     "metadata": {
      "needs_background": "light"
     },
     "output_type": "display_data"
    }
   ],
   "source": [
    "cm=confusion_matrix(Y_test,pred)\n",
    "labels=['negative','positive']\n",
    "x=plt.figure(figsize=(10,7))\n",
    "print(\"-\"*20, \"Confusion matrix\", \"-\"*20)\n",
    "sns.heatmap(cm,annot=True, cmap=\"YlGnBu\", fmt=\".3f\", xticklabels=labels, yticklabels=labels)\n",
    "plt.xlabel('predicted labels')\n",
    "plt.ylabel('Actual labels')\n",
    "plt.show()"
   ]
  },
  {
   "cell_type": "code",
   "execution_count": 421,
   "metadata": {},
   "outputs": [
    {
     "name": "stdout",
     "output_type": "stream",
     "text": [
      "AUC - ROC :  0.6653368794326241\n"
     ]
    }
   ],
   "source": [
    "from sklearn.metrics import roc_auc_score\n",
    "print(\"AUC - ROC : \", roc_auc_score(Y_test,pred))"
   ]
  },
  {
   "cell_type": "code",
   "execution_count": 422,
   "metadata": {},
   "outputs": [
    {
     "name": "stdout",
     "output_type": "stream",
     "text": [
      "True Negative Rate(TNR): 99.7340425531915\n",
      "False Positive Rate(FPR) 0.26595744680851063\n",
      "False Negative Rate(FNR): 66.66666666666666\n",
      "True positive Rate(TPR): 33.33333333333333\n",
      "Precision: 87.5\n",
      "Recall(TPR): 33.33333333333333\n",
      "F1 score: 48.27586206896551\n"
     ]
    }
   ],
   "source": [
    "TN=cm[0][0]\n",
    "FP=cm[0][1]\n",
    "N=TN+FP\n",
    "print(\"True Negative Rate(TNR):\",(TN/N)*100)\n",
    "print(\"False Positive Rate(FPR)\",(FP/N)*100)\n",
    "FN=cm[1][0]\n",
    "TP=cm[1][1]\n",
    "P=FN+TP\n",
    "print(\"False Negative Rate(FNR):\",(FN/P)*100)\n",
    "print(\"True positive Rate(TPR):\",(TP/P)*100)\n",
    "#precision: Of all the points predicted as positive how many of them actually positive\n",
    "Pr=(TP/(TP+FP))*100\n",
    "print(\"Precision:\",Pr)\n",
    "Re=(TP/P)*100\n",
    "print(\"Recall(TPR):\",Re)\n",
    "F1=2*(Pr*Re)/(Pr+Re)\n",
    "print(\"F1 score:\",F1)"
   ]
  },
  {
   "cell_type": "markdown",
   "metadata": {},
   "source": [
    "__Observations:__"
   ]
  },
  {
   "cell_type": "markdown",
   "metadata": {},
   "source": [
    "<h3> Baseline</h3>"
   ]
  },
  {
   "cell_type": "markdown",
   "metadata": {},
   "source": [
    "| model         |  metric|  score(Test)      |      \n",
    "|:-------------:|:---------------------------:|:-------:|\n",
    "|Logistic Regression       |AUC-ROC        |  0.5     |     \n",
    "|Decision Tree        |AUC-ROC         | 0.708    | "
   ]
  },
  {
   "cell_type": "markdown",
   "metadata": {},
   "source": [
    "<h3>Adding few more features</h3>"
   ]
  },
  {
   "cell_type": "markdown",
   "metadata": {},
   "source": [
    "| model         |  metric|  score(Test)      |      \n",
    "|:-------------:|:---------------------------:|:-------:|\n",
    "|Logistic Regression         |AUC-ROC        | 0.5     |     \n",
    "|Decision Tree         |AUC-ROC         | 0.66    | \n",
    "|Random Forest |AUC-ROC         |   0.66     |"
   ]
  },
  {
   "cell_type": "markdown",
   "metadata": {},
   "source": [
    "__Random Forest is performing better__"
   ]
  }
 ],
 "metadata": {
  "kernelspec": {
   "display_name": "Python 3",
   "language": "python",
   "name": "python3"
  },
  "language_info": {
   "codemirror_mode": {
    "name": "ipython",
    "version": 3
   },
   "file_extension": ".py",
   "mimetype": "text/x-python",
   "name": "python",
   "nbconvert_exporter": "python",
   "pygments_lexer": "ipython3",
   "version": "3.6.3rc1"
  }
 },
 "nbformat": 4,
 "nbformat_minor": 2
}
